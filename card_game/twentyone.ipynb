import random

##poker是牌, card是對應的值, again用來判斷是否繼續玩
poker=["A","2", "3", "4", "5", "6", "7", "8", "9", "10", "J", "Q", "K"]
card={"A":1 or 11, "2":2, "3":3, "4":4, "5":5, "6":6, "7":7, "8":8, "9":9, "10":10, "J":10, "Q":10, "K":10}
again = "y"

##用來加牌
def add(man, times):
    i=0
    while i<times:
        newc=random.choice(poker)
        man.append(newc)
        i=i+1

##用來判斷error massage
def error(cmd, msg):
    while(cmd!="y" and cmd!="n"):
        print("wrong commend")
        cmd = input(msg)

    return cmd

##計算總和
def cal(man):
    sum=0
    for i in man:
        if (i!="A"):
            sum = sum+card[i]
    if "A" in man: ###決定A的值
        if(sum<=10):
            sum = sum+11
        else:
            sum = sum+1
    return sum

while(again=="y"):
    player=[]
    robot=[]
    
    ##先各發兩張牌
    add(player, 2)
    add(robot, 2)
    
    ##show 牌
    print('\033[035m{}\033[0m'.format([player]), "sum:", cal(player))
    tmp = error(input("add one card ?(y/n) "), "add one card ?(y/n) ")
    
    ##判斷是否加牌
    while(tmp=="y"):
        add(player, 1)
        print('\033[035m{}\033[0m'.format([player]), "sum:", cal(player))
        
        if(cal(robot)<17):
            print("robot add one card")
            add(robot, 1)
        
        ##檢查是否超過21點, 超過停止遊戲    
        if(cal(player)>21):
            print('\033[031m{}\033[0m'.format("BOOM!!!"))
            tmp="n"
        else:
            tmp = error(input("add one card ?(y/n) "), "add one card ?(y/n) ")
        
    while(cal(robot)<17):
        print("robot add one card")
        add(robot, 1)
    
    ##show robot牌
    print("robot cards: ")
    print('\033[037m{}\033[0m'.format([robot]), "sum:", cal(robot))
    
    ##判斷輸贏
    if(cal(robot)<22 and cal(player)<22):
        if(cal(robot)<cal(player)):
            print('\033[036m{}\033[0m'.format("you win!"))
        elif(cal(robot)==cal(player)):
            print('\033[036m{}\033[0m'.format("pease~"))
        else:
            print('\033[036m{}\033[0m'.format("you lose!"))
    elif(cal(robot)>=22 and cal(player)<22):
        print('\033[036m{}\033[0m'.format("you win!"))
    elif(cal(robot)<22 and cal(player)>=22):
          print('\033[036m{}\033[0m'.format("you lose!"))
    else:
           print('\033[036m{}\033[0m'.format("pease~"))
    
    
    again=error(input("play again ?(y/n) "), "play again ?(y/n) ")
    
    
